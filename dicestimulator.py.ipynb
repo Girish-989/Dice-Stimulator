{
 "cells": [
  {
   "cell_type": "code",
   "execution_count": 1,
   "metadata": {},
   "outputs": [
    {
     "name": "stdout",
     "output_type": "stream",
     "text": [
      "5\n"
     ]
    }
   ],
   "source": [
    "import random\n",
    "\n",
    "x = random.randint(1,6)\n",
    "print(x)"
   ]
  },
  {
   "cell_type": "code",
   "execution_count": 2,
   "metadata": {},
   "outputs": [
    {
     "name": "stdout",
     "output_type": "stream",
     "text": [
      "2\n"
     ]
    }
   ],
   "source": [
    "import random\n",
    "\n",
    "x = random.randint(1,6)\n",
    "print(x)"
   ]
  },
  {
   "cell_type": "code",
   "execution_count": 3,
   "metadata": {},
   "outputs": [
    {
     "name": "stdout",
     "output_type": "stream",
     "text": [
      "3\n"
     ]
    }
   ],
   "source": [
    "import random\n",
    "\n",
    "x = random.randint(1,6)\n",
    "print(x)"
   ]
  },
  {
   "cell_type": "code",
   "execution_count": 4,
   "metadata": {},
   "outputs": [
    {
     "name": "stdout",
     "output_type": "stream",
     "text": [
      "2\n"
     ]
    }
   ],
   "source": [
    "import random\n",
    "\n",
    "x = random.randint(1,6)\n",
    "print(x)"
   ]
  },
  {
   "cell_type": "code",
   "execution_count": 5,
   "metadata": {},
   "outputs": [
    {
     "name": "stdout",
     "output_type": "stream",
     "text": [
      "2\n"
     ]
    }
   ],
   "source": [
    "import random\n",
    "\n",
    "x = random.randint(1,6)\n",
    "print(x)"
   ]
  },
  {
   "cell_type": "code",
   "execution_count": 6,
   "metadata": {},
   "outputs": [
    {
     "name": "stdout",
     "output_type": "stream",
     "text": [
      "6\n"
     ]
    }
   ],
   "source": [
    "import random\n",
    "\n",
    "x = random.randint(1,6)\n",
    "print(x)\n"
   ]
  },
  {
   "cell_type": "code",
   "execution_count": 7,
   "metadata": {},
   "outputs": [
    {
     "name": "stdout",
     "output_type": "stream",
     "text": [
      "6\n"
     ]
    }
   ],
   "source": [
    "import random\n",
    "\n",
    "x = random.randint(1,6)\n",
    "print(x)\n"
   ]
  },
  {
   "cell_type": "code",
   "execution_count": 8,
   "metadata": {},
   "outputs": [
    {
     "ename": "IndentationError",
     "evalue": "unexpected indent (<ipython-input-8-b45c8c1ebe59>, line 5)",
     "output_type": "error",
     "traceback": [
      "\u001b[0;36m  File \u001b[0;32m\"<ipython-input-8-b45c8c1ebe59>\"\u001b[0;36m, line \u001b[0;32m5\u001b[0m\n\u001b[0;31m    print (\"This is Dice Stimulator\")\u001b[0m\n\u001b[0m    ^\u001b[0m\n\u001b[0;31mIndentationError\u001b[0m\u001b[0;31m:\u001b[0m unexpected indent\n"
     ]
    }
   ],
   "source": [
    "\n",
    "import random\n",
    "\n",
    "number = random.randint(1,6)\n",
    "\n",
    " print (\"This is Dice Stimulator\")\n",
    "x = \"y\"\n",
    "    \n",
    "if number == 1:\n",
    "        \n",
    "    \n",
    "    print(\"----------\")\n",
    "    print(\"|        |\")\n",
    "    print(\"|   0    |\")\n",
    "    print(\"|        |\")\n",
    "    print(\"----------\")\n",
    "    \n",
    "    \n",
    "if number == 2:\n",
    "    \n",
    "    print(\"----------\")\n",
    "    print(\"|        |\")\n",
    "    print(\"|0      0|\")\n",
    "    print(\"|        |\")\n",
    "    print(\"----------\")\n",
    "    \n",
    "    \n",
    "if number == 3:\n",
    "    \n",
    "    print(\"----------\")\n",
    "    print(\"|        |\")\n",
    "    print(\"|0   0  0|\")\n",
    "    print(\"|        |\")\n",
    "    print(\"----------\")\n",
    "    \n",
    "if number == 4:\n",
    "    \n",
    "    print(\"----------\")\n",
    "    print(\"|o      0|\")\n",
    "    print(\"|        |\")\n",
    "    print(\"|0      0|\")\n",
    "    print(\"----------\")\n",
    "    \n",
    "    \n",
    "if number == 5:\n",
    "    \n",
    "    print(\"----------\")\n",
    "    print(\"|0      0|\")\n",
    "    print(\"|   0    |\")\n",
    "    print(\"|0      0|\")\n",
    "    print(\"----------\")\n",
    "    \n",
    "    \n",
    "if number == 6:\n",
    "    \n",
    "    print(\"----------\")\n",
    "    print(\"|0      0|\")\n",
    "    print(\"|0      0|\")\n",
    "    print(\"|0      0|\") \n",
    "    print(\"----------\")\n",
    "    \n",
    " "
   ]
  },
  {
   "cell_type": "code",
   "execution_count": 9,
   "metadata": {},
   "outputs": [
    {
     "name": "stdout",
     "output_type": "stream",
     "text": [
      "----------\n",
      "|        |\n",
      "|0      0|\n",
      "|        |\n",
      "----------\n"
     ]
    }
   ],
   "source": [
    "import random\n",
    "\n",
    "number = random.randint(1,6)\n",
    "x = \"y\"\n",
    "    \n",
    "if number == 1:\n",
    "    print(\"----------\")\n",
    "    print(\"|        |\")\n",
    "    print(\"|   0    |\")\n",
    "    print(\"|        |\")\n",
    "    print(\"----------\")\n",
    "    \n",
    "    \n",
    "if number == 2:\n",
    "    \n",
    "    print(\"----------\")\n",
    "    print(\"|        |\")\n",
    "    print(\"|0      0|\")\n",
    "    print(\"|        |\")\n",
    "    print(\"----------\")\n",
    "    \n",
    "    \n",
    "if number == 3:\n",
    "    \n",
    "    print(\"----------\")\n",
    "    print(\"|        |\")\n",
    "    print(\"|0   0  0|\")\n",
    "    print(\"|        |\")\n",
    "    print(\"----------\")\n",
    "    \n",
    "if number == 4:\n",
    "    \n",
    "    print(\"----------\")\n",
    "    print(\"|o      0|\")\n",
    "    print(\"|        |\")\n",
    "    print(\"|0      0|\")\n",
    "    print(\"----------\")\n",
    "    \n",
    "    \n",
    "if number == 5:\n",
    "    \n",
    "    print(\"----------\")\n",
    "    print(\"|0      0|\")\n",
    "    print(\"|   0    |\")\n",
    "    print(\"|0      0|\")\n",
    "    print(\"----------\")\n",
    "    \n",
    "    \n",
    "if number == 6:\n",
    "    \n",
    "    print(\"----------\")\n",
    "    print(\"|0      0|\")\n",
    "    print(\"|0      0|\")\n",
    "    print(\"|0      0|\") \n",
    "    print(\"----------\")\n",
    "    "
   ]
  },
  {
   "cell_type": "code",
   "execution_count": null,
   "metadata": {},
   "outputs": [
    {
     "name": "stdout",
     "output_type": "stream",
     "text": [
      "This is a dice stimulator\n",
      "----------\n",
      "|        |\n",
      "| O    O |\n",
      "|        |\n",
      "----------\n",
      "Press y to roll againy\n",
      "----------\n",
      "| O    O |\n",
      "|    O   |\n",
      "| O    O |\n",
      "----------\n",
      "Press y to roll againy\n",
      "----------\n",
      "|        |\n",
      "| O    O |\n",
      "|        |\n",
      "----------\n",
      "Press y to roll againy\n",
      "----------\n",
      "|    O   |\n",
      "|    O   |\n",
      "|    O   |\n",
      "----------\n",
      "Press y to roll againy\n",
      "----------\n",
      "| O    O |\n",
      "|        |\n",
      "| O    O |\n",
      "----------\n",
      "Press y to roll againy\n",
      "----------\n",
      "|        |\n",
      "|    O   |\n",
      "|        |\n",
      "----------\n",
      "Press y to roll againy\n",
      "----------\n",
      "| O    O |\n",
      "|    O   |\n",
      "| O    O |\n",
      "----------\n",
      "Press y to roll againy\n",
      "----------\n",
      "| O    O |\n",
      "|    O   |\n",
      "| O    O |\n",
      "----------\n",
      "Press y to roll againy\n",
      "----------\n",
      "| O    O |\n",
      "|        |\n",
      "| O    O |\n",
      "----------\n"
     ]
    }
   ],
   "source": [
    "import random\n",
    "print(\"This is a dice stimulator\")\n",
    "x = \"y\"\n",
    "\n",
    "while x == \"y\":\n",
    "    number = random.randint(1,6)\n",
    "\n",
    "    if number == 1:\n",
    "        print(\"----------\")\n",
    "        print(\"|        |\")\n",
    "        print(\"|    O   |\")\n",
    "        print(\"|        |\")\n",
    "        print(\"----------\")\n",
    "    if number == 2:\n",
    "        print(\"----------\")\n",
    "        print(\"|        |\")\n",
    "        print(\"| O    O |\")\n",
    "        print(\"|        |\")\n",
    "        print(\"----------\")\n",
    "    if number == 3:\n",
    "        print(\"----------\")\n",
    "        print(\"|    O   |\")\n",
    "        print(\"|    O   |\")\n",
    "        print(\"|    O   |\")\n",
    "        print(\"----------\")\n",
    "    if number == 4:\n",
    "        print(\"----------\")\n",
    "        print(\"| O    O |\")\n",
    "        print(\"|        |\")\n",
    "        print(\"| O    O |\")\n",
    "        print(\"----------\")\n",
    "    if number == 5:\n",
    "        print(\"----------\")\n",
    "        print(\"| O    O |\")\n",
    "        print(\"|    O   |\")\n",
    "        print(\"| O    O |\")\n",
    "        print(\"----------\")\n",
    "    if number == 6:\n",
    "        print(\"----------\")\n",
    "        print(\"| O    O |\")\n",
    "        print(\"| O    O |\")\n",
    "        print(\"| O    O |\")\n",
    "        print(\"----------\")\n",
    "    x = input(\"Press y to roll again\")\n",
    "    \n"
   ]
  },
  {
   "cell_type": "code",
   "execution_count": null,
   "metadata": {},
   "outputs": [],
   "source": []
  },
  {
   "cell_type": "code",
   "execution_count": null,
   "metadata": {},
   "outputs": [],
   "source": []
  },
  {
   "cell_type": "code",
   "execution_count": null,
   "metadata": {},
   "outputs": [],
   "source": []
  }
 ],
 "metadata": {
  "kernelspec": {
   "display_name": "Python 3",
   "language": "python",
   "name": "python3"
  },
  "language_info": {
   "codemirror_mode": {
    "name": "ipython",
    "version": 3
   },
   "file_extension": ".py",
   "mimetype": "text/x-python",
   "name": "python",
   "nbconvert_exporter": "python",
   "pygments_lexer": "ipython3",
   "version": "3.7.6"
  }
 },
 "nbformat": 4,
 "nbformat_minor": 4
}
